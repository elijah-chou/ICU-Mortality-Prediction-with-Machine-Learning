{
 "cells": [
  {
   "cell_type": "markdown",
   "id": "a445f97a",
   "metadata": {},
   "source": [
    "# Racial Bias Analysis"
   ]
  },
  {
   "cell_type": "markdown",
   "id": "2d63ba26",
   "metadata": {},
   "source": [
    "### Setting up environment and loading Preprocessed Training/Test Data"
   ]
  },
  {
   "cell_type": "code",
   "execution_count": null,
   "id": "7e2626ea",
   "metadata": {},
   "outputs": [],
   "source": [
    "import pandas as pd\n",
    "import numpy as np\n",
    "from scipy.stats import sem\n",
    "from sklearn.ensemble import RandomForestClassifier\n",
    "from sklearn.linear_model import LogisticRegression\n",
    "from sklearn.metrics import roc_auc_score, roc_curve"
   ]
  },
  {
   "cell_type": "code",
   "execution_count": null,
   "id": "03c745a8",
   "metadata": {},
   "outputs": [],
   "source": [
    "xTrain=pd.read_csv('xTrain.csv')\n",
    "xTest=pd.read_csv('xTest.csv')\n",
    "yTrain=pd.read_csv('yTrain.csv')\n",
    "yTest=pd.read_csv('yTest.csv')\n",
    "xTest.head()\n",
    "xTrain = xTrain.drop(columns=['Unnamed: 0'])\n",
    "xTest = xTest.drop(columns=['Unnamed: 0'])"
   ]
  },
  {
   "cell_type": "markdown",
   "id": "bf182cc4",
   "metadata": {},
   "source": [
    "### Creating test sets with only specific races for Bias Analysis"
   ]
  },
  {
   "cell_type": "code",
   "execution_count": null,
   "id": "394c378c",
   "metadata": {
    "scrolled": true
   },
   "outputs": [],
   "source": [
    "frames = [xTest, yTest]\n",
    "TestSet = pd.concat(frames, axis=1)\n",
    "TestSet = TestSet.drop(columns=['Unnamed: 0'])\n",
    "TestSet.head()"
   ]
  },
  {
   "cell_type": "code",
   "execution_count": null,
   "id": "373eb102",
   "metadata": {},
   "outputs": [],
   "source": [
    "TestWhite = TestSet[TestSet['ethnicity'] == 'WHITE']\n",
    "TestBlack = TestSet[TestSet['ethnicity'] == 'BLACK/AFRICAN AMERICAN']\n",
    "TestHisp = TestSet[TestSet['ethnicity'] == 'HISPANIC/LATINO']\n",
    "TestAsian = TestSet[TestSet['ethnicity'] == 'ASIAN']"
   ]
  },
  {
   "cell_type": "code",
   "execution_count": null,
   "id": "a16bfbe5",
   "metadata": {
    "scrolled": true
   },
   "outputs": [],
   "source": [
    "xTestWhite = TestWhite.drop(columns=['ethnicity', 'hospital_expire_flag'])\n",
    "yTestWhite = TestWhite['hospital_expire_flag'].reset_index()\n",
    "yTestWhite = yTestWhite.drop(columns=['index'])\n",
    "xTestBlack = TestBlack.drop(columns=['ethnicity', 'hospital_expire_flag'])\n",
    "yTestBlack = TestBlack['hospital_expire_flag'].reset_index()\n",
    "yTestBlack = yTestBlack.drop(columns=['index'])\n",
    "xTestHisp = TestHisp.drop(columns=['ethnicity', 'hospital_expire_flag'])\n",
    "yTestHisp = TestHisp['hospital_expire_flag'].reset_index()\n",
    "yTestHisp = yTestHisp.drop(columns=['index'])\n",
    "xTestAsian = TestAsian.drop(columns=['ethnicity', 'hospital_expire_flag'])\n",
    "yTestAsian = TestAsian['hospital_expire_flag'].reset_index()\n",
    "yTestAsian = yTestAsian.drop(columns=['index'])"
   ]
  },
  {
   "cell_type": "markdown",
   "id": "027a6ca5",
   "metadata": {},
   "source": [
    "Final edit to training and testing dataset"
   ]
  },
  {
   "cell_type": "code",
   "execution_count": null,
   "id": "47e528d1",
   "metadata": {},
   "outputs": [],
   "source": [
    "xTrain=xTrain.drop(columns=['ethnicity'])\n",
    "xTest=xTest.drop(columns=['ethnicity'])\n",
    "yTrain=yTrain['hospital_expire_flag']\n",
    "yTest=yTest['hospital_expire_flag']"
   ]
  },
  {
   "cell_type": "code",
   "execution_count": null,
   "id": "09cba351",
   "metadata": {
    "scrolled": false
   },
   "outputs": [],
   "source": [
    "xTest.head()"
   ]
  },
  {
   "cell_type": "code",
   "execution_count": null,
   "id": "005408c4",
   "metadata": {},
   "outputs": [],
   "source": [
    "xTestWhite.head()"
   ]
  },
  {
   "cell_type": "code",
   "execution_count": null,
   "id": "4939fb76",
   "metadata": {
    "scrolled": true
   },
   "outputs": [],
   "source": [
    "xTrain.head()"
   ]
  },
  {
   "cell_type": "markdown",
   "id": "910a835a",
   "metadata": {},
   "source": [
    "## Calculating overall AUROC w/ 95% Confidence Intervals for Chosen Model"
   ]
  },
  {
   "cell_type": "code",
   "execution_count": null,
   "id": "270a79f1",
   "metadata": {},
   "outputs": [],
   "source": [
    "model=RandomForestClassifier(n_estimators = 400, criterion='entropy', max_depth=20, min_samples_leaf=50, max_features=17, bootstrap=True, oob_score=True)\n",
    "model.fit(xTrain, yTrain)\n",
    "y_pred = model.predict_proba(xTest)"
   ]
  },
  {
   "cell_type": "code",
   "execution_count": null,
   "id": "b546d061",
   "metadata": {},
   "outputs": [],
   "source": [
    "print(\"Original ROC area: {:0.3f}\".format(roc_auc_score(yTest, y_pred[:,1])))"
   ]
  },
  {
   "cell_type": "code",
   "execution_count": null,
   "id": "f4334a04",
   "metadata": {},
   "outputs": [],
   "source": [
    "n_bootstraps = 1000\n",
    "rng_seed = 42  # control reproducibility\n",
    "bootstrapped_scores = []\n",
    "\n",
    "rng = np.random.RandomState(rng_seed)\n",
    "for i in range(n_bootstraps):\n",
    "    # bootstrap by sampling with replacement on the prediction indices\n",
    "    indices = rng.randint(0, len(y_pred), len(y_pred))\n",
    "    if len(np.unique(yTest[indices])) < 2:\n",
    "        # We need at least one positive and one negative sample for ROC AUC\n",
    "        # to be defined: reject the sample\n",
    "        continue\n",
    "\n",
    "    score = roc_auc_score(yTest[indices], y_pred[indices, 1])\n",
    "    bootstrapped_scores.append(score)\n",
    "    print(\"Bootstrap #{} ROC area: {:0.3f}\".format(i + 1, score))"
   ]
  },
  {
   "cell_type": "code",
   "execution_count": null,
   "id": "1aa7207a",
   "metadata": {},
   "outputs": [],
   "source": [
    "sorted_scores = np.array(bootstrapped_scores)\n",
    "sorted_scores.sort()\n",
    "\n",
    "# Computing the lower and upper bound of the 90% confidence interval\n",
    "# You can change the bounds percentiles to 0.025 and 0.975 to get\n",
    "# a 95% confidence interval instead.\n",
    "confidence_lower = sorted_scores[int(0.05 * len(sorted_scores))]\n",
    "confidence_upper = sorted_scores[int(0.95 * len(sorted_scores))]\n",
    "print(\"Confidence interval for the score: [{:0.3f} - {:0.3}]\".format(\n",
    "    confidence_lower, confidence_upper))"
   ]
  },
  {
   "cell_type": "markdown",
   "id": "580fa573",
   "metadata": {},
   "source": [
    "### Calculating 95% CI for individual races for Chosen Model"
   ]
  },
  {
   "cell_type": "markdown",
   "id": "f0fee435",
   "metadata": {},
   "source": [
    "#### For White Patients Set"
   ]
  },
  {
   "cell_type": "code",
   "execution_count": null,
   "id": "6d9ad268",
   "metadata": {
    "scrolled": false
   },
   "outputs": [],
   "source": [
    "y_pred_white = model.predict_proba(xTestWhite)\n",
    "print(\"Original ROC area: {:0.3f}\".format(roc_auc_score(yTestWhite, y_pred_white[:,1])))"
   ]
  },
  {
   "cell_type": "code",
   "execution_count": null,
   "id": "364bac2c",
   "metadata": {},
   "outputs": [],
   "source": [
    "n_bootstraps = 1000\n",
    "rng_seed = 42  # control reproducibility\n",
    "bootstrapped_scores = []\n",
    "\n",
    "rng = np.random.RandomState(rng_seed)\n",
    "for i in range(n_bootstraps):\n",
    "    # bootstrap by sampling with replacement on the prediction indices\n",
    "    indices = rng.randint(0, len(y_pred_white), len(y_pred_white))\n",
    "\n",
    "    score = roc_auc_score(yTestWhite.to_numpy()[indices], y_pred_white[indices, 1])\n",
    "    bootstrapped_scores.append(score)\n",
    "    print(\"Bootstrap #{} ROC area: {:0.3f}\".format(i + 1, score))"
   ]
  },
  {
   "cell_type": "code",
   "execution_count": null,
   "id": "3c5bfb2d",
   "metadata": {
    "scrolled": true
   },
   "outputs": [],
   "source": [
    "sorted_scores = np.array(bootstrapped_scores)\n",
    "sorted_scores.sort()\n",
    "\n",
    "confidence_lower = sorted_scores[int(0.05 * len(sorted_scores))]\n",
    "confidence_upper = sorted_scores[int(0.95 * len(sorted_scores))]\n",
    "print(\"Confidence interval for the score on White patients: [{:0.3f} - {:0.3}]\".format(\n",
    "    confidence_lower, confidence_upper))"
   ]
  },
  {
   "cell_type": "markdown",
   "id": "d48c0d6e",
   "metadata": {},
   "source": [
    "#### For Black Patient Set"
   ]
  },
  {
   "cell_type": "code",
   "execution_count": null,
   "id": "8c76f573",
   "metadata": {
    "scrolled": true
   },
   "outputs": [],
   "source": [
    "y_pred_black = model.predict_proba(xTestBlack)\n",
    "print(\"Original ROC area: {:0.3f}\".format(roc_auc_score(yTestBlack, y_pred_black[:,1])))"
   ]
  },
  {
   "cell_type": "code",
   "execution_count": null,
   "id": "30c61e79",
   "metadata": {},
   "outputs": [],
   "source": [
    "n_bootstraps = 1000\n",
    "rng_seed = 42  # control reproducibility\n",
    "bootstrapped_scores = []\n",
    "\n",
    "rng = np.random.RandomState(rng_seed)\n",
    "for i in range(n_bootstraps):\n",
    "    indices = rng.randint(0, len(y_pred_black), len(y_pred_black))\n",
    "\n",
    "    score = roc_auc_score(yTestBlack.to_numpy()[indices], y_pred_black[indices, 1])\n",
    "    bootstrapped_scores.append(score)\n",
    "    print(\"Bootstrap #{} ROC area: {:0.3f}\".format(i + 1, score))"
   ]
  },
  {
   "cell_type": "code",
   "execution_count": null,
   "id": "10dc6f82",
   "metadata": {},
   "outputs": [],
   "source": [
    "sorted_scores = np.array(bootstrapped_scores)\n",
    "sorted_scores.sort()\n",
    "\n",
    "confidence_lower = sorted_scores[int(0.025 * len(sorted_scores))]\n",
    "confidence_upper = sorted_scores[int(0.975 * len(sorted_scores))]\n",
    "print(\"Confidence interval for the score on Black patients: [{:0.3f} - {:0.3}]\".format(\n",
    "    confidence_lower, confidence_upper))"
   ]
  },
  {
   "cell_type": "markdown",
   "id": "025236cf",
   "metadata": {},
   "source": [
    "#### For Hispanic Patient Set"
   ]
  },
  {
   "cell_type": "code",
   "execution_count": null,
   "id": "d55587ae",
   "metadata": {},
   "outputs": [],
   "source": [
    "y_pred_hispanic = model.predict_proba(xTestHisp)\n",
    "print(\"Original ROC area: {:0.3f}\".format(roc_auc_score(yTestHisp, y_pred_hispanic[:,1])))"
   ]
  },
  {
   "cell_type": "code",
   "execution_count": null,
   "id": "32c45a98",
   "metadata": {},
   "outputs": [],
   "source": [
    "n_bootstraps = 1000\n",
    "rng_seed = 42  # control reproducibility\n",
    "bootstrapped_scores = []\n",
    "\n",
    "rng = np.random.RandomState(rng_seed)\n",
    "for i in range(n_bootstraps):\n",
    "    indices = rng.randint(0, len(y_pred_hispanic), len(y_pred_hispanic))\n",
    "\n",
    "    score = roc_auc_score(yTestHisp.to_numpy()[indices], y_pred_hispanic[indices, 1])\n",
    "    bootstrapped_scores.append(score)\n",
    "    print(\"Bootstrap #{} ROC area: {:0.3f}\".format(i + 1, score))"
   ]
  },
  {
   "cell_type": "code",
   "execution_count": null,
   "id": "cb4eb9cf",
   "metadata": {},
   "outputs": [],
   "source": [
    "sorted_scores = np.array(bootstrapped_scores)\n",
    "sorted_scores.sort()\n",
    "confidence_lower = sorted_scores[int(0.025 * len(sorted_scores))]\n",
    "confidence_upper = sorted_scores[int(0.975 * len(sorted_scores))]\n",
    "print(\"Confidence interval for the score on Hispanic patients: [{:0.3f} - {:0.3}]\".format(\n",
    "    confidence_lower, confidence_upper))"
   ]
  },
  {
   "cell_type": "markdown",
   "id": "416e2852",
   "metadata": {},
   "source": [
    "#### For Asian Patient Set"
   ]
  },
  {
   "cell_type": "code",
   "execution_count": null,
   "id": "d3f6a2bf",
   "metadata": {},
   "outputs": [],
   "source": [
    "y_pred_asian = model.predict_proba(xTestAsian)\n",
    "print(\"Original ROC area: {:0.3f}\".format(roc_auc_score(yTestAsian, y_pred_asian[:,1])))"
   ]
  },
  {
   "cell_type": "code",
   "execution_count": null,
   "id": "8f0e9a61",
   "metadata": {},
   "outputs": [],
   "source": [
    "n_bootstraps = 1000\n",
    "rng_seed = 42  # control reproducibility\n",
    "bootstrapped_scores = []\n",
    "\n",
    "rng = np.random.RandomState(rng_seed)\n",
    "for i in range(n_bootstraps):\n",
    "    indices = rng.randint(0, len(y_pred_asian), len(y_pred_asian))\n",
    "\n",
    "    score = roc_auc_score(yTestAsian.to_numpy()[indices], y_pred_asian[indices, 1])\n",
    "    bootstrapped_scores.append(score)\n",
    "    print(\"Bootstrap #{} ROC area: {:0.3f}\".format(i + 1, score))"
   ]
  },
  {
   "cell_type": "code",
   "execution_count": null,
   "id": "da08377f",
   "metadata": {},
   "outputs": [],
   "source": [
    "sorted_scores = np.array(bootstrapped_scores)\n",
    "sorted_scores.sort()\n",
    "\n",
    "confidence_lower = sorted_scores[int(0.025 * len(sorted_scores))]\n",
    "confidence_upper = sorted_scores[int(0.975 * len(sorted_scores))]\n",
    "print(\"Confidence interval for the score on Asian patients: [{:0.3f} - {:0.3}]\".format(\n",
    "    confidence_lower, confidence_upper))"
   ]
  },
  {
   "cell_type": "markdown",
   "id": "15297c25",
   "metadata": {},
   "source": [
    "## Calculating overall AUROC w/ 95% Confidence Intervals for Logistic Regression Model"
   ]
  },
  {
   "cell_type": "code",
   "execution_count": null,
   "id": "ee33149f",
   "metadata": {},
   "outputs": [],
   "source": [
    "xTrainLog = xTrain['sofa_24hours'].to_numpy().reshape(-1,1)\n",
    "xTestLog = xTest['sofa_24hours'].to_numpy().reshape(-1,1)"
   ]
  },
  {
   "cell_type": "code",
   "execution_count": null,
   "id": "0ddfb1a1",
   "metadata": {},
   "outputs": [],
   "source": [
    "model=LogisticRegression()\n",
    "model.fit(xTrainLog, yTrain)\n",
    "y_pred = model.predict_proba(xTestLog)"
   ]
  },
  {
   "cell_type": "code",
   "execution_count": null,
   "id": "599b4da4",
   "metadata": {
    "scrolled": true
   },
   "outputs": [],
   "source": [
    "print(\"Original ROC area: {:0.3f}\".format(roc_auc_score(yTest, y_pred[:,1])))"
   ]
  },
  {
   "cell_type": "code",
   "execution_count": null,
   "id": "d4093006",
   "metadata": {},
   "outputs": [],
   "source": [
    "n_bootstraps = 1000\n",
    "rng_seed = 42  # control reproducibility\n",
    "bootstrapped_scores = []\n",
    "\n",
    "rng = np.random.RandomState(rng_seed)\n",
    "for i in range(n_bootstraps):\n",
    "    # bootstrap by sampling with replacement on the prediction indices\n",
    "    indices = rng.randint(0, len(y_pred), len(y_pred))\n",
    "    if len(np.unique(yTest[indices])) < 2:\n",
    "        # We need at least one positive and one negative sample for ROC AUC\n",
    "        # to be defined: reject the sample\n",
    "        continue\n",
    "\n",
    "    score = roc_auc_score(yTest[indices], y_pred[indices, 1])\n",
    "    bootstrapped_scores.append(score)\n",
    "    print(\"Bootstrap #{} ROC area: {:0.3f}\".format(i + 1, score))"
   ]
  },
  {
   "cell_type": "code",
   "execution_count": null,
   "id": "759c8bda",
   "metadata": {},
   "outputs": [],
   "source": [
    "sorted_scores = np.array(bootstrapped_scores)\n",
    "sorted_scores.sort()\n",
    "confidence_lower = sorted_scores[int(0.025 * len(sorted_scores))]\n",
    "confidence_upper = sorted_scores[int(0.975 * len(sorted_scores))]\n",
    "print(\"Confidence interval for the score: [{:0.3f} - {:0.3}]\".format(\n",
    "    confidence_lower, confidence_upper))"
   ]
  },
  {
   "cell_type": "markdown",
   "id": "08d82bed",
   "metadata": {},
   "source": [
    "### Selecting only SOFA score for individual race test dataset"
   ]
  },
  {
   "cell_type": "code",
   "execution_count": null,
   "id": "3ccdd4a3",
   "metadata": {},
   "outputs": [],
   "source": [
    "xTestWhite = xTestWhite['sofa_24hours'].to_numpy().reshape(-1,1)\n",
    "xTestBlack = xTestBlack['sofa_24hours'].to_numpy().reshape(-1,1)\n",
    "xTestHisp = xTestHisp['sofa_24hours'].to_numpy().reshape(-1,1)\n",
    "xTestAsian = xTestAsian['sofa_24hours'].to_numpy().reshape(-1,1)"
   ]
  },
  {
   "cell_type": "markdown",
   "id": "f0ce35be",
   "metadata": {},
   "source": [
    "#### For White Patient Set"
   ]
  },
  {
   "cell_type": "code",
   "execution_count": null,
   "id": "6b6bc427",
   "metadata": {
    "scrolled": true
   },
   "outputs": [],
   "source": [
    "y_pred_white = model.predict_proba(xTestWhite)\n",
    "print(\"Original ROC area: {:0.3f}\".format(roc_auc_score(yTestWhite, y_pred_white[:,1])))"
   ]
  },
  {
   "cell_type": "code",
   "execution_count": null,
   "id": "2bfff776",
   "metadata": {},
   "outputs": [],
   "source": [
    "n_bootstraps = 1000\n",
    "rng_seed = 42  # control reproducibility\n",
    "bootstrapped_scores = []\n",
    "\n",
    "rng = np.random.RandomState(rng_seed)\n",
    "for i in range(n_bootstraps):\n",
    "    indices = rng.randint(0, len(y_pred_white), len(y_pred_white))\n",
    "\n",
    "    score = roc_auc_score(yTestWhite.to_numpy()[indices], y_pred_white[indices, 1])\n",
    "    bootstrapped_scores.append(score)\n",
    "    print(\"Bootstrap #{} ROC area: {:0.3f}\".format(i + 1, score))"
   ]
  },
  {
   "cell_type": "code",
   "execution_count": null,
   "id": "cd656e47",
   "metadata": {},
   "outputs": [],
   "source": [
    "sorted_scores = np.array(bootstrapped_scores)\n",
    "sorted_scores.sort()\n",
    "\n",
    "confidence_lower = sorted_scores[int(0.05 * len(sorted_scores))]\n",
    "confidence_upper = sorted_scores[int(0.95 * len(sorted_scores))]\n",
    "print(\"Confidence interval for the score on White patients: [{:0.3f} - {:0.3}]\".format(\n",
    "    confidence_lower, confidence_upper))"
   ]
  },
  {
   "cell_type": "markdown",
   "id": "7d76c884",
   "metadata": {},
   "source": [
    "#### For Black Patient Set"
   ]
  },
  {
   "cell_type": "code",
   "execution_count": null,
   "id": "dd52371f",
   "metadata": {
    "scrolled": true
   },
   "outputs": [],
   "source": [
    "y_pred_black = model.predict_proba(xTestBlack)\n",
    "print(\"Original ROC area: {:0.3f}\".format(roc_auc_score(yTestBlack, y_pred_black[:,1])))"
   ]
  },
  {
   "cell_type": "code",
   "execution_count": null,
   "id": "cd872ec7",
   "metadata": {},
   "outputs": [],
   "source": [
    "n_bootstraps = 1000\n",
    "rng_seed = 42  # control reproducibility\n",
    "bootstrapped_scores = []\n",
    "\n",
    "rng = np.random.RandomState(rng_seed)\n",
    "for i in range(n_bootstraps):\n",
    "    indices = rng.randint(0, len(y_pred_black), len(y_pred_black))\n",
    "\n",
    "    score = roc_auc_score(yTestBlack.to_numpy()[indices], y_pred_black[indices, 1])\n",
    "    bootstrapped_scores.append(score)\n",
    "    print(\"Bootstrap #{} ROC area: {:0.3f}\".format(i + 1, score))"
   ]
  },
  {
   "cell_type": "code",
   "execution_count": null,
   "id": "5d06a908",
   "metadata": {},
   "outputs": [],
   "source": [
    "sorted_scores = np.array(bootstrapped_scores)\n",
    "sorted_scores.sort()\n",
    "\n",
    "confidence_lower = sorted_scores[int(0.025 * len(sorted_scores))]\n",
    "confidence_upper = sorted_scores[int(0.975 * len(sorted_scores))]\n",
    "print(\"Confidence interval for the score on Black patients: [{:0.3f} - {:0.3}]\".format(\n",
    "    confidence_lower, confidence_upper))"
   ]
  },
  {
   "cell_type": "markdown",
   "id": "4982ddb8",
   "metadata": {},
   "source": [
    "#### For Hispanic Patient Set"
   ]
  },
  {
   "cell_type": "code",
   "execution_count": null,
   "id": "3dc44999",
   "metadata": {
    "scrolled": true
   },
   "outputs": [],
   "source": [
    "y_pred_hispanic = model.predict_proba(xTestHisp)\n",
    "print(\"Original ROC area: {:0.3f}\".format(roc_auc_score(yTestHisp, y_pred_hispanic[:,1])))"
   ]
  },
  {
   "cell_type": "code",
   "execution_count": null,
   "id": "1649c494",
   "metadata": {},
   "outputs": [],
   "source": [
    "n_bootstraps = 1000\n",
    "rng_seed = 42  # control reproducibility\n",
    "bootstrapped_scores = []\n",
    "\n",
    "rng = np.random.RandomState(rng_seed)\n",
    "for i in range(n_bootstraps):\n",
    "    indices = rng.randint(0, len(y_pred_hispanic), len(y_pred_hispanic))\n",
    "\n",
    "    score = roc_auc_score(yTestHisp.to_numpy()[indices], y_pred_hispanic[indices, 1])\n",
    "    bootstrapped_scores.append(score)\n",
    "    print(\"Bootstrap #{} ROC area: {:0.3f}\".format(i + 1, score))"
   ]
  },
  {
   "cell_type": "code",
   "execution_count": null,
   "id": "e544f56f",
   "metadata": {},
   "outputs": [],
   "source": [
    "sorted_scores = np.array(bootstrapped_scores)\n",
    "sorted_scores.sort()\n",
    "confidence_lower = sorted_scores[int(0.025 * len(sorted_scores))]\n",
    "confidence_upper = sorted_scores[int(0.975 * len(sorted_scores))]\n",
    "print(\"Confidence interval for the score on Hispanic patients: [{:0.3f} - {:0.3}]\".format(\n",
    "    confidence_lower, confidence_upper))"
   ]
  },
  {
   "cell_type": "markdown",
   "id": "7d243fa7",
   "metadata": {},
   "source": [
    "#### For Asian Patient Set"
   ]
  },
  {
   "cell_type": "code",
   "execution_count": null,
   "id": "c57207fe",
   "metadata": {
    "scrolled": true
   },
   "outputs": [],
   "source": [
    "y_pred_asian = model.predict_proba(xTestAsian)\n",
    "print(\"Original ROC area: {:0.3f}\".format(roc_auc_score(yTestAsian, y_pred_asian[:,1])))"
   ]
  },
  {
   "cell_type": "code",
   "execution_count": null,
   "id": "13b87c3d",
   "metadata": {},
   "outputs": [],
   "source": [
    "n_bootstraps = 1000\n",
    "rng_seed = 42  # control reproducibility\n",
    "bootstrapped_scores = []\n",
    "\n",
    "rng = np.random.RandomState(rng_seed)\n",
    "for i in range(n_bootstraps):\n",
    "    indices = rng.randint(0, len(y_pred_asian), len(y_pred_asian))\n",
    "\n",
    "    score = roc_auc_score(yTestAsian.to_numpy()[indices], y_pred_asian[indices, 1])\n",
    "    bootstrapped_scores.append(score)\n",
    "    print(\"Bootstrap #{} ROC area: {:0.3f}\".format(i + 1, score))"
   ]
  },
  {
   "cell_type": "code",
   "execution_count": null,
   "id": "c26b2dbc",
   "metadata": {},
   "outputs": [],
   "source": [
    "sorted_scores = np.array(bootstrapped_scores)\n",
    "sorted_scores.sort()\n",
    "\n",
    "confidence_lower = sorted_scores[int(0.025 * len(sorted_scores))]\n",
    "confidence_upper = sorted_scores[int(0.975 * len(sorted_scores))]\n",
    "print(\"Confidence interval for the score on Asian patients: [{:0.3f} - {:0.3}]\".format(\n",
    "    confidence_lower, confidence_upper))"
   ]
  }
 ],
 "metadata": {
  "kernelspec": {
   "display_name": "Python 3",
   "language": "python",
   "name": "python3"
  },
  "language_info": {
   "codemirror_mode": {
    "name": "ipython",
    "version": 3
   },
   "file_extension": ".py",
   "mimetype": "text/x-python",
   "name": "python",
   "nbconvert_exporter": "python",
   "pygments_lexer": "ipython3",
   "version": "3.8.8"
  }
 },
 "nbformat": 4,
 "nbformat_minor": 5
}
